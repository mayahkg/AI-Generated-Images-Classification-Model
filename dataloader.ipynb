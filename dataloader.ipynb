{
 "cells": [
  {
   "cell_type": "code",
   "execution_count": 8,
   "metadata": {
    "jupyter": {
     "is_executing": true
    }
   },
   "outputs": [],
   "source": [
    "# Required imports\n",
    "import os\n",
    "import glob\n",
    "import numpy as np\n",
    "import cv2\n",
    "from sklearn.utils import shuffle\n",
    "from sklearn.model_selection import train_test_split"
   ]
  },
  {
   "cell_type": "code",
   "execution_count": 1,
   "metadata": {
    "ExecuteTime": {
     "end_time": "2025-07-29T05:24:51.987301Z",
     "start_time": "2025-07-28T05:12:43.607548Z"
    }
   },
   "outputs": [],
   "source": [
    "# Data Processing\n",
    "\n",
    "def load_data(paths, image_size, classes):\n",
    "    images = []\n",
    "    labels = []\n",
    "    ids = []\n",
    "    cls = []\n",
    "\n",
    "    print('Reading training images')\n",
    "\n",
    "    # Getting the Image Paths\n",
    "    for fld in classes:\n",
    "        index = classes.index(fld)\n",
    "        print('Loading {} files (Index: {})'.format(fld, index))\n",
    "        path = os.path.join(paths, fld, '*g')\n",
    "        files = glob.glob(path)\n",
    "\n",
    "        # Resizing the Images\n",
    "        for fl in files:\n",
    "            image = cv2.imread(fl)\n",
    "            image = cv2.resize(image, (image_size, image_size), cv2.INTER_LINEAR)\n",
    "            images.append(image)\n",
    "\n",
    "            # One-Hot Encoding\n",
    "            label = np.zeros(len(classes))\n",
    "            label[index] = 1.0\n",
    "            labels.append(label)\n",
    "            flbase = os.path.basename(fl)\n",
    "            ids.append(flbase)\n",
    "            cls.append(fld)\n",
    "\n",
    "    # Turning into Numpy Arrays\n",
    "    images = np.array(images)\n",
    "    labels = np.array(labels)\n",
    "    ids = np.array(ids)\n",
    "    cls = np.array(cls)\n",
    "\n",
    "    return images, labels, ids, cls"
   ]
  },
  {
   "cell_type": "code",
   "execution_count": 2,
   "metadata": {},
   "outputs": [],
   "source": [
    "# Normalising the data\n",
    "\n",
    "def normalize_data(train_images, validation_images, test_images):\n",
    "\n",
    "    # Ensure inputs are numpy arrays\n",
    "    train_images = np.array(train_images, dtype=np.uint8)\n",
    "    validation_images = np.array(validation_images, dtype=np.uint8)\n",
    "    test_images = np.array(test_images, dtype=np.uint8)\n",
    "    \n",
    "    # Normalize to [0, 1]\n",
    "    train_images = train_images.astype('float32') / 255.0\n",
    "    validation_images = validation_images.astype('float32') / 255.0\n",
    "    test_images = test_images.astype('float32') / 255.0\n",
    "        \n",
    "    return (train_images, validation_images, test_images)"
   ]
  },
  {
   "cell_type": "code",
   "execution_count": null,
   "metadata": {
    "ExecuteTime": {
     "end_time": "2025-07-29T05:24:51.990243Z",
     "start_time": "2025-07-28T05:21:34.965723Z"
    }
   },
   "outputs": [],
   "source": [
    "# Splitting into training, testing, validating\n",
    "\n",
    "# paths = \"/Users/mayahkg/Documents/GitHub/AI-Generated-Images-Classification-Model/datasets\"\n",
    "# image_size = 224\n",
    "#classes = [\"AiArt\",\"RealArt\"]\n",
    "\n"
   ]
  },
  {
   "cell_type": "code",
   "execution_count": null,
   "metadata": {},
   "outputs": [],
   "source": []
  },
  {
   "cell_type": "code",
   "execution_count": null,
   "metadata": {},
   "outputs": [],
   "source": []
  },
  {
   "cell_type": "code",
   "execution_count": null,
   "metadata": {},
   "outputs": [],
   "source": [
    "\n"
   ]
  },
  {
   "cell_type": "code",
   "execution_count": null,
   "metadata": {},
   "outputs": [],
   "source": []
  }
 ],
 "metadata": {
  "kernelspec": {
   "display_name": "base",
   "language": "python",
   "name": "python3"
  },
  "language_info": {
   "codemirror_mode": {
    "name": "ipython",
    "version": 3
   },
   "file_extension": ".py",
   "mimetype": "text/x-python",
   "name": "python",
   "nbconvert_exporter": "python",
   "pygments_lexer": "ipython3",
   "version": "3.13.5"
  }
 },
 "nbformat": 4,
 "nbformat_minor": 2
}
