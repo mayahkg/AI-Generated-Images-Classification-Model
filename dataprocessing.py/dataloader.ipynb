{
 "cells": [
  {
   "cell_type": "code",
   "execution_count": 2,
   "metadata": {
    "ExecuteTime": {
     "end_time": "2025-07-28T05:12:42.843033Z",
     "start_time": "2025-07-28T05:12:41.481225Z"
    }
   },
   "outputs": [],
   "source": [
    "# Required imports\n",
    "import os\n",
    "import glob\n",
    "import numpy as np\n",
    "import cv2\n",
    "from sklearn.utils import shuffle\n",
    "from sklearn.model_selection import train_test_split"
   ]
  },
  {
   "cell_type": "code",
   "execution_count": 3,
   "metadata": {
    "ExecuteTime": {
     "end_time": "2025-07-28T05:12:43.610879Z",
     "start_time": "2025-07-28T05:12:43.607548Z"
    }
   },
   "outputs": [],
   "source": [
    "def load_data(paths, image_size, classes):\n",
    "    images = []\n",
    "    labels = []\n",
    "    ids = []\n",
    "    cls = []\n",
    "\n",
    "    print('Reading training images')\n",
    "\n",
    "    # Getting the Image Paths\n",
    "    for fld in classes:  \n",
    "        index = classes.index(fld)\n",
    "        print('Loading {} files (Index: {})'.format(fld, index))\n",
    "        path = os.path.join(paths, fld, '*g')\n",
    "        files = glob.glob(path)\n",
    "\n",
    "        # Resizing the Images\n",
    "        for fl in files:\n",
    "            image = cv2.imread(fl)\n",
    "            image = cv2.resize(image, (image_size, image_size), cv2.INTER_LINEAR)\n",
    "            images.append(image)\n",
    "\n",
    "            # One-Hot Encoding\n",
    "            label = np.zeros(len(classes))\n",
    "            label[index] = 1.0\n",
    "            labels.append(label)\n",
    "            flbase = os.path.basename(fl)\n",
    "            ids.append(flbase)\n",
    "            cls.append(fld)\n",
    "\n",
    "    # Turning into Numpy Arrays\n",
    "    images = np.array(images)\n",
    "    labels = np.array(labels)\n",
    "    ids = np.array(ids)\n",
    "    cls = np.array(cls)\n",
    "\n",
    "    return images, labels, ids, cls"
   ]
  },
  {
   "cell_type": "code",
   "execution_count": 4,
   "metadata": {
    "ExecuteTime": {
     "end_time": "2025-07-28T05:12:49.545223Z",
     "start_time": "2025-07-28T05:12:44.977789Z"
    }
   },
   "outputs": [
    {
     "name": "stdout",
     "output_type": "stream",
     "text": [
      "Reading training images\n",
      "Loading AiArt files (Index: 0)\n",
      "Loading RealArt files (Index: 1)\n"
     ]
    },
    {
     "name": "stderr",
     "output_type": "stream",
     "text": [
      "libpng warning: iCCP: profile 'ICC Profile': 'CMYK': invalid ICC profile color space\n"
     ]
    },
    {
     "name": "stdout",
     "output_type": "stream",
     "text": [
      "65178624\n",
      "433\n",
      "433\n",
      "866\n"
     ]
    }
   ],
   "source": [
    "classes = [\"AiArt\", \"RealArt\"]\n",
    "paths = \"/Users/mayahkg/Documents/GitHub/AI-Generated-Images-Classification-Model/datasets\"\n",
    "image_size = 224\n",
    "\n",
    "images, labels, ids, cls = load_data(paths, image_size, classes)\n",
    "print(images.size)\n",
    "print(ids.size)\n",
    "print(cls.size)\n",
    "print(labels.size)"
   ]
  },
  {
   "cell_type": "code",
   "execution_count": 5,
   "metadata": {
    "ExecuteTime": {
     "end_time": "2025-07-28T05:12:52.399529Z",
     "start_time": "2025-07-28T05:12:52.386019Z"
    }
   },
   "outputs": [],
   "source": [
    "train_images, test_images, train_labels, test_labels, train_ids, test_ids = train_test_split(images, labels, ids, test_size=0.2, random_state=42, stratify=labels)"
   ]
  }
 ],
 "metadata": {
  "kernelspec": {
   "display_name": "Python [conda env:base] *",
   "language": "python",
   "name": "conda-base-py"
  },
  "language_info": {
   "codemirror_mode": {
    "name": "ipython",
    "version": 3
   },
   "file_extension": ".py",
   "mimetype": "text/x-python",
   "name": "python",
   "nbconvert_exporter": "python",
   "pygments_lexer": "ipython3",
   "version": "3.13.5"
  }
 },
 "nbformat": 4,
 "nbformat_minor": 2
}
