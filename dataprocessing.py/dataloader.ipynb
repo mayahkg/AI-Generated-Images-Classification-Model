{
 "cells": [
  {
   "cell_type": "code",
   "execution_count": 19,
   "metadata": {
    "ExecuteTime": {
     "end_time": "2025-07-28T02:57:06.883117Z",
     "start_time": "2025-07-28T02:57:06.880574Z"
    }
   },
   "outputs": [],
   "source": [
    "# Required imports\n",
    "import os\n",
    "import glob\n",
    "import numpy as np\n",
    "import cv2\n",
    "from sklearn.utils import shuffle"
   ]
  },
  {
   "cell_type": "code",
   "execution_count": 20,
   "metadata": {},
   "outputs": [],
   "source": [
    "def load_train(train_path, image_size, classes):\n",
    "    images = []\n",
    "    labels = []\n",
    "    ids = []\n",
    "    cls = []\n",
    "\n",
    "    print('Reading training images')\n",
    "\n",
    "    # Getting the Image Paths\n",
    "    for fld in classes:  \n",
    "        index = classes.index(fld)\n",
    "        print('Loading {} files (Index: {})'.format(fld, index))\n",
    "        path = os.path.join(train_path, fld, '*g')\n",
    "        files = glob.glob(path)\n",
    "\n",
    "        # Resizing the Images\n",
    "        for fl in files:\n",
    "            image = cv2.imread(fl)\n",
    "            if image is None:\n",
    "                print(f\"Warning: Failed to load image {fl}\")\n",
    "                continue\n",
    "            image = cv2.resize(image, (image_size, image_size), cv2.INTER_LINEAR)\n",
    "            # Verify resizing\n",
    "            if image.shape != (image_size, image_size, 3):\n",
    "                print(f\"Warning: Image {fl} has unexpected shape {image.shape} after resizing\")\n",
    "            images.append(image)\n",
    "\n",
    "            # One-Hot Encoding\n",
    "            label = np.zeros(len(classes))\n",
    "            label[index] = 1.0\n",
    "            labels.append(label)\n",
    "            flbase = os.path.basename(fl)\n",
    "            ids.append(flbase)\n",
    "            cls.append(fld)\n",
    "\n",
    "    # Turning into Numpy Arrays\n",
    "    images = np.array(images)\n",
    "    labels = np.array(labels)\n",
    "    ids = np.array(ids)\n",
    "    cls = np.array(cls)\n",
    "\n",
    "    # Print array shapes to confirm successful loading and resizing\n",
    "    print(\"\\nSummary of loaded data:\")\n",
    "    print(f\"Images array shape: {images.shape}\")  # Expected: (num_images, image_size, image_size, 3)\n",
    "    print(f\"Labels array shape: {labels.shape}\")  # Expected: (num_images, num_classes)\n",
    "    print(f\"IDs array shape: {ids.shape}\")        # Expected: (num_images,)\n",
    "    print(f\"Classes array shape: {cls.shape}\")    # Expected: (num_images,)\n",
    "\n",
    "    # Optionally, print a sample of the data to avoid overwhelming output\n",
    "    if images.shape[0] > 0:\n",
    "        print(\"\\nSample data:\")\n",
    "        print(f\"Sample image shape: {images[0].shape}\")\n",
    "        print(f\"Sample label: {labels[0]}\")\n",
    "        print(f\"Sample ID: {ids[0]}\")\n",
    "        print(f\"Sample class: {cls[0]}\")\n",
    "\n",
    "    return images, labels, ids, cls"
   ]
  },
  {
   "cell_type": "code",
   "execution_count": 21,
   "metadata": {},
   "outputs": [
    {
     "name": "stdout",
     "output_type": "stream",
     "text": [
      "Reading training images\n",
      "Loading AiArt files (Index: 0)\n",
      "Loading RealArt files (Index: 1)\n",
      "\n",
      "Summary of loaded data:\n",
      "Images array shape: (0,)\n",
      "Labels array shape: (0,)\n",
      "IDs array shape: (0,)\n",
      "Classes array shape: (0,)\n"
     ]
    }
   ],
   "source": [
    "classes = [\"AiArt\", \"RealArt\"]\n",
    "train_path = 'datasets.py'  \n",
    "image_size = 224\n",
    "\n",
    "images, labels, ids, cls = load_train(train_path, image_size, classes)"
   ]
  }
 ],
 "metadata": {
  "kernelspec": {
   "display_name": "base",
   "language": "python",
   "name": "python3"
  },
  "language_info": {
   "codemirror_mode": {
    "name": "ipython",
    "version": 3
   },
   "file_extension": ".py",
   "mimetype": "text/x-python",
   "name": "python",
   "nbconvert_exporter": "python",
   "pygments_lexer": "ipython3",
   "version": "3.13.5"
  }
 },
 "nbformat": 4,
 "nbformat_minor": 2
}
